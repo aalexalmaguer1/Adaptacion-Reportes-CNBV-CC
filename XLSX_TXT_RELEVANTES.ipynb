{
 "cells": [
  {
   "cell_type": "code",
   "execution_count": 1,
   "id": "06deae3a-48a3-415e-83db-2bf32da2289e",
   "metadata": {},
   "outputs": [],
   "source": [
    "import pandas as pd"
   ]
  },
  {
   "cell_type": "code",
   "execution_count": 3,
   "id": "9c552be1-dd67-4359-b1b9-df9e54b4dc6f",
   "metadata": {},
   "outputs": [],
   "source": [
    "# Configuración\n",
    "archivo_excel = r\"C:\\Users\\profe\\Downloads\\OPERACIONES_RELEVANTES_5000_1.xlsx\"  # Reemplaza con el nombre de tu archivo Excel\n",
    "nombre_hoja = 'OPERACIONES_RELEVANTES_5000'  # Reemplaza con el nombre de tu hoja\n",
    "archivo_txt = r\"C:\\Users\\profe\\OneDrive\\Documentos\\Documentos\\Reportes PLD\\Archivo Relevantes Python.txt\"  # Nombre del archivo TXT de salida"
   ]
  },
  {
   "cell_type": "code",
   "execution_count": 5,
   "id": "c10d9f0d-61d6-44de-8398-08f2a0b645d6",
   "metadata": {},
   "outputs": [],
   "source": [
    "# Leer el archivo de Excel\n",
    "df = pd.read_excel(archivo_excel, sheet_name=nombre_hoja, dtype=str)"
   ]
  },
  {
   "cell_type": "code",
   "execution_count": 7,
   "id": "54c852d5-1feb-4e23-b982-17775b3442f5",
   "metadata": {},
   "outputs": [],
   "source": [
    "# Reemplazar NaN con cadenas vacías\n",
    "df = df.fillna('')"
   ]
  },
  {
   "cell_type": "code",
   "execution_count": 10,
   "id": "acf3fb7d-ed78-4374-9d23-9884ebdca06a",
   "metadata": {},
   "outputs": [],
   "source": [
    "# Asegurarse de que haya exactamente 41 columnas\n",
    "# Si hay menos, agregar columnas vacías\n",
    "total_columnas_deseadas = 41\n",
    "if df.shape[1] < total_columnas_deseadas:\n",
    "  columnas_faltantes = total_columnas_deseadas - df.shape[1]\n",
    "  for i in range(columnas_faltantes):\n",
    "      df[f'Columna_Vacía_{i+1}'] = ''\n",
    "elif df.shape[1] > total_columnas_deseadas:\n",
    "  # Si hay más columnas, truncar el DataFrame\n",
    "  df = df.iloc[:, :total_columnas_deseadas]"
   ]
  },
  {
   "cell_type": "code",
   "execution_count": 12,
   "id": "91c32488-de46-4412-a35e-6097687f80df",
   "metadata": {},
   "outputs": [],
   "source": [
    "# Ahora, asegurar que todas las celdas estén como strings y vacías se mantengan\n",
    "for col in df.columns:\n",
    "  df[col] = df[col].astype(str).replace({'nan': ''})"
   ]
  },
  {
   "cell_type": "code",
   "execution_count": 14,
   "id": "08217f21-efec-4a1f-aaa3-b4ba828e2f79",
   "metadata": {},
   "outputs": [],
   "source": [
    "# Crear una columna concatenada con ';' como separador\n",
    "df['Concatenado'] = df.apply(lambda row: ';'.join(row.values), axis=1)"
   ]
  },
  {
   "cell_type": "code",
   "execution_count": 16,
   "id": "39788c41-3cd1-485e-b891-280a13a7c303",
   "metadata": {},
   "outputs": [],
   "source": [
    "# Asegurar que cada línea tenga exactamente 41 ';' (42 campos)\n",
    "df['Concatenado'] = df['Concatenado'].apply(lambda x: x + ';'*(41 - x.count(';')) if x.count(';') < 41 else x + ';')"
   ]
  },
  {
   "cell_type": "code",
   "execution_count": 18,
   "id": "8f2bdde8-5346-477f-a9d6-97001d284780",
   "metadata": {},
   "outputs": [
    {
     "name": "stdout",
     "output_type": "stream",
     "text": [
      "Archivo TXT generado exitosamente: C:\\Users\\profe\\OneDrive\\Documentos\\Documentos\\Reportes PLD\\Archivo Relevantes Python.txt\n"
     ]
    }
   ],
   "source": [
    "# Guardar en archivo TXT\n",
    "with open(archivo_txt, 'w', encoding='utf-8') as f:\n",
    "  for linea in df['Concatenado']:\n",
    "      f.write(linea + '\\n')\n",
    "\n",
    "print(f\"Archivo TXT generado exitosamente: {archivo_txt}\")"
   ]
  },
  {
   "cell_type": "code",
   "execution_count": null,
   "id": "98c25971-1f2c-44e0-80ab-72e0f4330a53",
   "metadata": {},
   "outputs": [],
   "source": []
  }
 ],
 "metadata": {
  "kernelspec": {
   "display_name": "Python 3 (ipykernel)",
   "language": "python",
   "name": "python3"
  },
  "language_info": {
   "codemirror_mode": {
    "name": "ipython",
    "version": 3
   },
   "file_extension": ".py",
   "mimetype": "text/x-python",
   "name": "python",
   "nbconvert_exporter": "python",
   "pygments_lexer": "ipython3",
   "version": "3.11.5"
  }
 },
 "nbformat": 4,
 "nbformat_minor": 5
}
